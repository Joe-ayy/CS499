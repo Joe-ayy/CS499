{
  "nbformat": 4,
  "nbformat_minor": 0,
  "metadata": {
    "colab": {
      "name": "SVHN_Evaluator.ipynb",
      "version": "0.3.2",
      "provenance": [],
      "collapsed_sections": [],
      "toc_visible": true
    },
    "kernelspec": {
      "name": "python3",
      "display_name": "Python 3"
    }
  },
  "cells": [
    {
      "metadata": {
        "id": "pp1K0LolNtq3",
        "colab_type": "text"
      },
      "cell_type": "markdown",
      "source": [
        "# **Libraries We'll Be Using**"
      ]
    },
    {
      "metadata": {
        "id": "uVGRTzPpNx-L",
        "colab_type": "code",
        "colab": {}
      },
      "cell_type": "code",
      "source": [
        "import numpy as np\n",
        "import matplotlib.pyplot as plt\n",
        "\n",
        "\n",
        "from keras.models import load_model\n",
        "from keras.preprocessing import image"
      ],
      "execution_count": 0,
      "outputs": []
    },
    {
      "metadata": {
        "id": "DiqLWwoqNUKg",
        "colab_type": "text"
      },
      "cell_type": "markdown",
      "source": [
        "# **Loading Model**"
      ]
    },
    {
      "metadata": {
        "id": "8jr0BG-TNYCP",
        "colab_type": "code",
        "outputId": "05ccd555-26d5-497d-a56c-497cb45ae4ce",
        "colab": {
          "base_uri": "https://localhost:8080/",
          "height": 188
        }
      },
      "cell_type": "code",
      "source": [
        "model = load_model(\"SVHN_model_multi.h5\")"
      ],
      "execution_count": 0,
      "outputs": [
        {
          "output_type": "stream",
          "text": [
            "WARNING:tensorflow:From /usr/local/lib/python3.6/dist-packages/tensorflow/python/framework/op_def_library.py:263: colocate_with (from tensorflow.python.framework.ops) is deprecated and will be removed in a future version.\n",
            "Instructions for updating:\n",
            "Colocations handled automatically by placer.\n",
            "WARNING:tensorflow:From /usr/local/lib/python3.6/dist-packages/keras/backend/tensorflow_backend.py:3445: calling dropout (from tensorflow.python.ops.nn_ops) with keep_prob is deprecated and will be removed in a future version.\n",
            "Instructions for updating:\n",
            "Please use `rate` instead of `keep_prob`. Rate should be set to `rate = 1 - keep_prob`.\n",
            "WARNING:tensorflow:From /usr/local/lib/python3.6/dist-packages/tensorflow/python/ops/math_ops.py:3066: to_int32 (from tensorflow.python.ops.math_ops) is deprecated and will be removed in a future version.\n",
            "Instructions for updating:\n",
            "Use tf.cast instead.\n"
          ],
          "name": "stdout"
        }
      ]
    },
    {
      "metadata": {
        "id": "QI5P5qtbT8BV",
        "colab_type": "text"
      },
      "cell_type": "markdown",
      "source": [
        "# **Loading and Predicting Image**"
      ]
    },
    {
      "metadata": {
        "id": "xit1Qa3gT_bT",
        "colab_type": "code",
        "outputId": "acccf9e7-7039-4fa7-9eca-4752bf731aa9",
        "colab": {
          "base_uri": "https://localhost:8080/",
          "height": 87
        }
      },
      "cell_type": "code",
      "source": [
        "# helper function to convert image arrays from rgb to grayscale\n",
        "# can convert from RGB to grayscale using the function: \n",
        "# Y = (0.299 * R) + (0.587 * G) + (0.114 * B)\n",
        "def gray_conv(img):\n",
        "  r = 0.299\n",
        "  g = 0.587\n",
        "  b = 0.114\n",
        "  grayscale_img = np.expand_dims(np.dot(img, [r,g,b]), axis = 3)\n",
        "  return grayscale_img\n",
        "\n",
        "\n",
        "\n",
        "def img_norm(img_array):\n",
        "  mean = np.mean(img_array, axis=0)\n",
        "  std = np.std(img_array, axis=0)\n",
        "\n",
        "  # perform the normalization\n",
        "  img_array = (img_array - mean) / std\n",
        "  \n",
        "  return img_array\n",
        "\n",
        "\n",
        "# helper function to convert any image into readable format for our CNN\n",
        "def img_conv(image_name):\n",
        "  \n",
        "  img_width, img_height = 32, 32\n",
        "  img = image.load_img(image_name, target_size=(img_width, img_height))\n",
        "  img = gray_conv(img).astype(np.float32)\n",
        "  img = img.astype(np.float32) / 255.0\n",
        "\n",
        "  x = image.img_to_array(img)\n",
        "  x = np.expand_dims(x, axis=0)\n",
        "  image_data = np.vstack([x])\n",
        "  \n",
        "  return image_data\n",
        "\n",
        "\n",
        "def predict_on_img(model, img_name):\n",
        "  \n",
        "  img = img_conv(img_name)\n",
        "  prediction = model.predict(img)\n",
        "  \n",
        "  predicted_label = []\n",
        "  for i in range(0, len(prediction)):\n",
        "    predicted_label.append(np.argmax(prediction[i]))\n",
        "\n",
        "  print(predicted_label)\n",
        "  return\n",
        "\n",
        "\n",
        "predict_on_img(model, 'IMAGENAME')"
      ],
      "execution_count": 0,
      "outputs": [
        {
          "output_type": "stream",
          "text": [
            "[6, 10, 10, 10, 10]\n"
          ],
          "name": "stdout"
        },
        {
          "output_type": "stream",
          "text": [
            "/usr/local/lib/python3.6/dist-packages/ipykernel_launcher.py:5: DeprecationWarning: Both axis > a.ndim and axis < -a.ndim - 1 are deprecated and will raise an AxisError in the future.\n",
            "  \"\"\"\n"
          ],
          "name": "stderr"
        }
      ]
    }
  ]
}